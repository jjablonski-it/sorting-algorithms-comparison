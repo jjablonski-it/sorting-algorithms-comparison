{
  "nbformat": 4,
  "nbformat_minor": 0,
  "metadata": {
    "colab": {
      "name": "ASD.ipynb",
      "provenance": [],
      "collapsed_sections": [],
      "authorship_tag": "ABX9TyPI2Hplarn1VzDZNPOQxX0O",
      "include_colab_link": true
    },
    "kernelspec": {
      "display_name": "Python 3",
      "name": "python3",
      "language": "python"
    }
  },
  "cells": [
    {
      "cell_type": "markdown",
      "metadata": {
        "id": "view-in-github",
        "colab_type": "text"
      },
      "source": [
        "<a href=\"https://colab.research.google.com/github/jjablonski-it/sorting-algorithms-comparison/blob/master/ASD.ipynb\" target=\"_parent\"><img src=\"https://colab.research.google.com/assets/colab-badge.svg\" alt=\"Open In Colab\"/></a>"
      ]
    },
    {
      "cell_type": "code",
      "metadata": {
        "id": "N1sNNaRnAjN7"
      },
      "source": [
        "# Imports\n",
        "from random import randrange, choice\n",
        "from time import time\n",
        "import plotly.express as px\n",
        "import plotly.graph_objects as go\n",
        "import pandas as pd\n",
        "import sys\n",
        "sys.setrecursionlimit(100000)"
      ],
      "execution_count": 1,
      "outputs": []
    },
    {
      "cell_type": "markdown",
      "metadata": {
        "id": "R8nSkjm7-pqi"
      },
      "source": [
        "# Functions"
      ]
    },
    {
      "cell_type": "code",
      "metadata": {
        "id": "J0kQvtr_oB_U"
      },
      "source": [
        "# Rand function\n",
        "def unique_random(size):\n",
        "    rand_arry = []\n",
        "    values = [x for x in range(size)]\n",
        "    for x in range(size):\n",
        "      rand_elem = choice(values)\n",
        "      values.remove(rand_elem)\n",
        "      rand_arry.append(rand_elem)\n",
        "    return rand_arry"
      ],
      "execution_count": 2,
      "outputs": []
    },
    {
      "cell_type": "code",
      "metadata": {
        "id": "QEqLmsPDbH3F"
      },
      "source": [
        "# Map function\n",
        "def map_results(alg, results):\n",
        "  lenght = len(SIZES)\n",
        "  res = {}\n",
        "  for tab_type in data:\n",
        "    res[tab_type] = []\n",
        "    for elem in range(lenght):\n",
        "      res[tab_type].append(results.pop(0))\n",
        "  RESULTS[alg] = res"
      ],
      "execution_count": 3,
      "outputs": []
    },
    {
      "cell_type": "code",
      "metadata": {
        "id": "W-Qa2FgD-tup"
      },
      "source": [
        "# Swap function\n",
        "def swap(A, a, b):\n",
        "  if a is not b:\n",
        "    buff = A[a]\n",
        "    A[a] = A[b]\n",
        "    A[b] = buff\n",
        "  return A"
      ],
      "execution_count": 4,
      "outputs": []
    },
    {
      "cell_type": "code",
      "metadata": {
        "id": "ZSqRuCnm-DVn"
      },
      "source": [
        "# Structures\n",
        "RESULTS = {}\n",
        "ALGS = {}"
      ],
      "execution_count": 5,
      "outputs": []
    },
    {
      "cell_type": "code",
      "metadata": {
        "colab": {
          "base_uri": "https://localhost:8080/"
        },
        "id": "Zt3SeUQiAtlN",
        "outputId": "6d61f956-251f-4ef3-b1b6-37dbf8eb67a6"
      },
      "source": [
        "# Constants\n",
        "SIZES = [x*1000 for x in range(1,11)]\n",
        "DISPLAY_ELEMS = 10\n",
        "\n",
        "SIZES"
      ],
      "execution_count": 6,
      "outputs": [
        {
          "output_type": "execute_result",
          "data": {
            "text/plain": [
              "[1000, 2000, 3000, 4000, 5000, 6000, 7000, 8000, 9000, 10000]"
            ]
          },
          "metadata": {},
          "execution_count": 6
        }
      ]
    },
    {
      "cell_type": "code",
      "metadata": {
        "colab": {
          "base_uri": "https://localhost:8080/"
        },
        "id": "QOeW2l6YAgKr",
        "outputId": "a12fab21-65e6-4678-d1a3-57264eb94d51"
      },
      "source": [
        "# Generate data\n",
        "data = {\n",
        "    \"sorted\":  [[x for x in range(size)] for size in SIZES],\n",
        "    \"reversed\":[[x for x in range(size)[::-1]] for size in SIZES],\n",
        "    \"random\":[unique_random(size) for size in SIZES]\n",
        "  }\n",
        "\n",
        "# for tab_type in data:\n",
        "#   print(\"{}: {}\".format(tab_type, str(data[tab_type])))"
      ],
      "execution_count": 7,
      "outputs": []
    },
    {
      "cell_type": "markdown",
      "metadata": {
        "id": "BEDMgAl1lc8_"
      },
      "source": [
        "# Sorting algorithms\n"
      ]
    },
    {
      "cell_type": "code",
      "metadata": {
        "id": "UtOCWcw3L3-0"
      },
      "source": [
        "# Quicksort\n",
        "def partition(A, p, r):\n",
        "  pivot = A[r]\n",
        "  smaller = p\n",
        "  for j in range(p, r):\n",
        "    if A[j] <= pivot:\n",
        "      swap(A, smaller, j)\n",
        "      smaller = smaller + 1\n",
        "  swap(A, smaller, r)\n",
        "  return smaller\n",
        "\n",
        "def quicksort(A, p=0, r=-100):\n",
        "  if r == -100:\n",
        "    r = len(A)-1\n",
        "  if p < r:\n",
        "    q = partition(A, p, r)\n",
        "    quicksort(A, p, q-1)\n",
        "    quicksort(A, q+1, r)\n",
        "ALGS['quick'] = quicksort"
      ],
      "execution_count": null,
      "outputs": []
    },
    {
      "cell_type": "code",
      "metadata": {
        "id": "9iFUGZ3EnMXG"
      },
      "source": [
        "# Heap sort\n",
        "def max_heapify(A,i):\n",
        "  l = 2*i+1\n",
        "  r = 2*i+2\n",
        "  heap_size = len(A)\n",
        " \n",
        "  if l < heap_size and A[l] > A[i]:\n",
        "    largest = l\n",
        "  else:\n",
        "    largest = i\n",
        " \n",
        "  if r < heap_size and A[r] > A[largest]:\n",
        "    largest = r\n",
        "  \n",
        "  if i != largest:\n",
        "    swap(A, largest, i)\n",
        "    max_heapify(A, largest)\n",
        " \n",
        "def build_max_heap(A):\n",
        "  for i in range(int(len(A)/2)+1, -1, -1):\n",
        "    max_heapify(A, i)\n",
        " \n",
        "def heap_sort(A):\n",
        "  build_max_heap(A)\n",
        "  sorted = []\n",
        "  for i in range(len(A), 1, -1):\n",
        "    swap(A, 0, len(A)-1)\n",
        "    sorted.insert(0, A.pop())\n",
        "    max_heapify(A, 0)\n",
        "  return sorted\n",
        "ALGS['heap'] = heap_sort"
      ],
      "execution_count": null,
      "outputs": []
    },
    {
      "cell_type": "code",
      "metadata": {
        "id": "J5WneYAwikyg"
      },
      "source": [
        "# Insertion sort\n",
        "def insertion_sort(A): \n",
        "    for i in range(1, len(A)): \n",
        "        key = A[i] \n",
        "        j = i-1\n",
        "        while j >=0 and key < A[j] : \n",
        "                A[j+1] = A[j] \n",
        "                j -= 1\n",
        "        A[j+1] = key \n",
        "ALGS['ins'] = insertion_sort"
      ],
      "execution_count": null,
      "outputs": []
    },
    {
      "cell_type": "code",
      "metadata": {
        "id": "ydMfvgvCmZEi"
      },
      "source": [
        "# Selection sort\n",
        "def selection_sort(A):\n",
        "  for i in range(len(A)): \n",
        "      min_id = i \n",
        "      for j in range(i+1, len(A)): \n",
        "          if A[min_id] > A[j]: \n",
        "              min_id = j       \n",
        "      swap(A, i, min_id)\n",
        "ALGS['sel'] = selection_sort"
      ],
      "execution_count": null,
      "outputs": []
    },
    {
      "cell_type": "code",
      "metadata": {
        "id": "jiV620A2sCoT"
      },
      "source": [
        "# Bubble sort\n",
        "def bubble_sort(A): \n",
        "    n = len(A) \n",
        "    for i in range(n-1): \n",
        "        for j in range(0, n-i-1): \n",
        "            if A[j] > A[j+1]: \n",
        "                swap(A, j, j+1)\n",
        "ALGS['bubb'] = bubble_sort         "
      ],
      "execution_count": null,
      "outputs": []
    },
    {
      "cell_type": "markdown",
      "metadata": {
        "id": "DqvATDDjlrS5"
      },
      "source": [
        "# Testing\n"
      ]
    },
    {
      "cell_type": "code",
      "metadata": {
        "colab": {
          "base_uri": "https://localhost:8080/"
        },
        "id": "eKuGkchKtTx9",
        "outputId": "e084450c-a3e2-41cb-fe06-c3c788fef4af"
      },
      "source": [
        "# Test all\n",
        "for alg in ALGS:\n",
        "  res = []\n",
        "  print(alg)\n",
        "  for tab_type in data:\n",
        "    print(\"\\t\",tab_type)\n",
        "    for tab in data[tab_type]:\n",
        "      c_data = tab[::]\n",
        "      s_time = time()\n",
        "      ALGS[alg](c_data)\n",
        "      res.append(time() - s_time)\n",
        "  map_results(alg, res)"
      ],
      "execution_count": null,
      "outputs": [
        {
          "output_type": "stream",
          "text": [
            "quick\n",
            "\t sorted\n",
            "\t reversed\n",
            "\t random\n",
            "heap\n",
            "\t sorted\n",
            "\t reversed\n",
            "\t random\n",
            "ins\n",
            "\t sorted\n",
            "\t reversed\n",
            "\t random\n",
            "sel\n",
            "\t sorted\n",
            "\t reversed\n",
            "\t random\n",
            "bubb\n",
            "\t sorted\n",
            "\t reversed\n",
            "\t random\n"
          ],
          "name": "stdout"
        }
      ]
    },
    {
      "cell_type": "markdown",
      "metadata": {
        "id": "_07cMhIOl2c6"
      },
      "source": [
        "# Graph"
      ]
    },
    {
      "cell_type": "code",
      "metadata": {
        "id": "fqySee-8Qalt"
      },
      "source": [
        "def show_graph(type=True):\n",
        "  fig = go.Figure()\n",
        "  for alg in RESULTS:\n",
        "    for header in RESULTS[alg]:\n",
        "      c_data = RESULTS[alg][header]\n",
        "      fig.add_trace(\n",
        "        go.Scatter(\n",
        "            x=SIZES, \n",
        "            y=c_data, \n",
        "            name=\"{}_{}\".format(alg, header), \n",
        "            mode=\"lines+markers\", \n",
        "            legendgroup=header if type else alg,\n",
        "          )\n",
        "      )\n",
        "  fig.update_layout(\n",
        "      title=\"Grouped by {}\".format(\"type\" if type else \"algorithm\"),\n",
        "      xaxis_title=\"Size of array\",\n",
        "      yaxis_title=\"Time (s)\",\n",
        "  )\n",
        "  fig.show()"
      ],
      "execution_count": null,
      "outputs": []
    },
    {
      "cell_type": "code",
      "metadata": {
        "colab": {
          "base_uri": "https://localhost:8080/",
          "height": 1000
        },
        "id": "ZJNnSrWj1c8D",
        "outputId": "89f76028-59d1-40b1-867b-632115ff3471"
      },
      "source": [
        "# Show graphs\n",
        "show_graph(True)\n",
        "show_graph(False)"
      ],
      "execution_count": null,
      "outputs": [
        {
          "output_type": "display_data",
          "data": {
            "text/html": [
              "<html>\n",
              "<head><meta charset=\"utf-8\" /></head>\n",
              "<body>\n",
              "    <div>\n",
              "            <script src=\"https://cdnjs.cloudflare.com/ajax/libs/mathjax/2.7.5/MathJax.js?config=TeX-AMS-MML_SVG\"></script><script type=\"text/javascript\">if (window.MathJax) {MathJax.Hub.Config({SVG: {font: \"STIX-Web\"}});}</script>\n",
              "                <script type=\"text/javascript\">window.PlotlyConfig = {MathJaxConfig: 'local'};</script>\n",
              "        <script src=\"https://cdn.plot.ly/plotly-latest.min.js\"></script>    \n",
              "            <div id=\"981d507a-fa8a-42ed-9225-8e9af4512ef5\" class=\"plotly-graph-div\" style=\"height:525px; width:100%;\"></div>\n",
              "            <script type=\"text/javascript\">\n",
              "                \n",
              "                    window.PLOTLYENV=window.PLOTLYENV || {};\n",
              "                    \n",
              "                if (document.getElementById(\"981d507a-fa8a-42ed-9225-8e9af4512ef5\")) {\n",
              "                    Plotly.newPlot(\n",
              "                        '981d507a-fa8a-42ed-9225-8e9af4512ef5',\n",
              "                        [{\"legendgroup\": \"sorted\", \"mode\": \"lines+markers\", \"name\": \"quick_sorted\", \"type\": \"scatter\", \"x\": [1000, 2000, 3000, 4000, 5000, 6000, 7000, 8000, 9000, 10000], \"y\": [0.1971437931060791, 0.5221936702728271, 1.012413501739502, 1.86383056640625, 2.887575626373291, 4.215571165084839, 5.736204385757446, 7.567899465560913, 9.581453561782837, 11.836766242980957]}, {\"legendgroup\": \"reversed\", \"mode\": \"lines+markers\", \"name\": \"quick_reversed\", \"type\": \"scatter\", \"x\": [1000, 2000, 3000, 4000, 5000, 6000, 7000, 8000, 9000, 10000], \"y\": [0.07931256294250488, 0.2969040870666504, 0.6615555286407471, 1.180774211883545, 1.847641944885254, 2.6451213359832764, 3.6109070777893066, 4.710620641708374, 5.964602470397949, 7.377075433731079]}, {\"legendgroup\": \"random\", \"mode\": \"lines+markers\", \"name\": \"quick_random\", \"type\": \"scatter\", \"x\": [1000, 2000, 3000, 4000, 5000, 6000, 7000, 8000, 9000, 10000], \"y\": [0.002585887908935547, 0.011008501052856445, 0.007339954376220703, 0.012870311737060547, 0.013134956359863281, 0.016455411911010742, 0.019269466400146484, 0.022780656814575195, 0.025799036026000977, 0.027785778045654297]}, {\"legendgroup\": \"sorted\", \"mode\": \"lines+markers\", \"name\": \"heap_sorted\", \"type\": \"scatter\", \"x\": [1000, 2000, 3000, 4000, 5000, 6000, 7000, 8000, 9000, 10000], \"y\": [0.0060732364654541016, 0.013755559921264648, 0.02269434928894043, 0.03262138366699219, 0.0438075065612793, 0.05204343795776367, 0.06328082084655762, 0.07749223709106445, 0.0974416732788086, 0.10084080696105957]}, {\"legendgroup\": \"reversed\", \"mode\": \"lines+markers\", \"name\": \"heap_reversed\", \"type\": \"scatter\", \"x\": [1000, 2000, 3000, 4000, 5000, 6000, 7000, 8000, 9000, 10000], \"y\": [0.005953788757324219, 0.012477636337280273, 0.02071213722229004, 0.028911590576171875, 0.037244319915771484, 0.04815793037414551, 0.05865073204040527, 0.07262754440307617, 0.08643078804016113, 0.09228777885437012]}, {\"legendgroup\": \"random\", \"mode\": \"lines+markers\", \"name\": \"heap_random\", \"type\": \"scatter\", \"x\": [1000, 2000, 3000, 4000, 5000, 6000, 7000, 8000, 9000, 10000], \"y\": [0.00652766227722168, 0.01282358169555664, 0.022985458374023438, 0.029894590377807617, 0.03970766067504883, 0.049653053283691406, 0.062151193618774414, 0.0767514705657959, 0.08324432373046875, 0.09769868850708008]}, {\"legendgroup\": \"sorted\", \"mode\": \"lines+markers\", \"name\": \"ins_sorted\", \"type\": \"scatter\", \"x\": [1000, 2000, 3000, 4000, 5000, 6000, 7000, 8000, 9000, 10000], \"y\": [0.00020194053649902344, 0.00035953521728515625, 0.0005075931549072266, 0.0007007122039794922, 0.0008678436279296875, 0.0010685920715332031, 0.0012385845184326172, 0.001440286636352539, 0.0015835762023925781, 0.0017726421356201172]}, {\"legendgroup\": \"reversed\", \"mode\": \"lines+markers\", \"name\": \"ins_reversed\", \"type\": \"scatter\", \"x\": [1000, 2000, 3000, 4000, 5000, 6000, 7000, 8000, 9000, 10000], \"y\": [0.07134008407592773, 0.2842576503753662, 0.641782283782959, 1.1420865058898926, 1.823197841644287, 2.600470781326294, 3.5391666889190674, 4.647400856018066, 5.863456726074219, 7.2867631912231445]}, {\"legendgroup\": \"random\", \"mode\": \"lines+markers\", \"name\": \"ins_random\", \"type\": \"scatter\", \"x\": [1000, 2000, 3000, 4000, 5000, 6000, 7000, 8000, 9000, 10000], \"y\": [0.036370277404785156, 0.14374423027038574, 0.3312876224517822, 0.5887565612792969, 0.9114887714385986, 1.3146307468414307, 1.8063921928405762, 2.329125165939331, 2.9592199325561523, 3.6874730587005615]}, {\"legendgroup\": \"sorted\", \"mode\": \"lines+markers\", \"name\": \"sel_sorted\", \"type\": \"scatter\", \"x\": [1000, 2000, 3000, 4000, 5000, 6000, 7000, 8000, 9000, 10000], \"y\": [0.03316164016723633, 0.13289952278137207, 0.298037052154541, 0.5249724388122559, 0.8181540966033936, 1.20359206199646, 1.6482715606689453, 2.1590700149536133, 2.7097864151000977, 3.3319733142852783]}, {\"legendgroup\": \"reversed\", \"mode\": \"lines+markers\", \"name\": \"sel_reversed\", \"type\": \"scatter\", \"x\": [1000, 2000, 3000, 4000, 5000, 6000, 7000, 8000, 9000, 10000], \"y\": [0.03478860855102539, 0.14020943641662598, 0.326305627822876, 0.5556640625, 0.8900103569030762, 1.2628629207611084, 1.717761516571045, 2.2367501258850098, 2.8673994541168213, 3.506105422973633]}, {\"legendgroup\": \"random\", \"mode\": \"lines+markers\", \"name\": \"sel_random\", \"type\": \"scatter\", \"x\": [1000, 2000, 3000, 4000, 5000, 6000, 7000, 8000, 9000, 10000], \"y\": [0.03458046913146973, 0.13518071174621582, 0.308743953704834, 0.545208215713501, 0.8509955406188965, 1.2192821502685547, 1.6366832256317139, 2.140428066253662, 2.720508337020874, 3.3480074405670166]}, {\"legendgroup\": \"sorted\", \"mode\": \"lines+markers\", \"name\": \"bubb_sorted\", \"type\": \"scatter\", \"x\": [1000, 2000, 3000, 4000, 5000, 6000, 7000, 8000, 9000, 10000], \"y\": [0.04071760177612305, 0.17502474784851074, 0.39252305030822754, 0.6978671550750732, 1.0918595790863037, 1.5804526805877686, 2.1579749584198, 2.8129148483276367, 3.5899806022644043, 4.422718286514282]}, {\"legendgroup\": \"reversed\", \"mode\": \"lines+markers\", \"name\": \"bubb_reversed\", \"type\": \"scatter\", \"x\": [1000, 2000, 3000, 4000, 5000, 6000, 7000, 8000, 9000, 10000], \"y\": [0.1263113021850586, 0.531857967376709, 1.2011606693267822, 2.125664710998535, 3.33174991607666, 4.824244737625122, 6.583380460739136, 8.626905679702759, 10.953033685684204, 13.43857216835022]}, {\"legendgroup\": \"random\", \"mode\": \"lines+markers\", \"name\": \"bubb_random\", \"type\": \"scatter\", \"x\": [1000, 2000, 3000, 4000, 5000, 6000, 7000, 8000, 9000, 10000], \"y\": [0.08762359619140625, 0.36803507804870605, 0.8231046199798584, 1.4814965724945068, 2.2758145332336426, 3.290102481842041, 4.473753929138184, 5.858308553695679, 7.441923379898071, 9.266722202301025]}],\n",
              "                        {\"template\": {\"data\": {\"bar\": [{\"error_x\": {\"color\": \"#2a3f5f\"}, \"error_y\": {\"color\": \"#2a3f5f\"}, \"marker\": {\"line\": {\"color\": \"#E5ECF6\", \"width\": 0.5}}, \"type\": \"bar\"}], \"barpolar\": [{\"marker\": {\"line\": {\"color\": \"#E5ECF6\", \"width\": 0.5}}, \"type\": \"barpolar\"}], \"carpet\": [{\"aaxis\": {\"endlinecolor\": \"#2a3f5f\", \"gridcolor\": \"white\", \"linecolor\": \"white\", \"minorgridcolor\": \"white\", \"startlinecolor\": \"#2a3f5f\"}, \"baxis\": {\"endlinecolor\": \"#2a3f5f\", \"gridcolor\": \"white\", \"linecolor\": \"white\", \"minorgridcolor\": \"white\", \"startlinecolor\": \"#2a3f5f\"}, \"type\": \"carpet\"}], \"choropleth\": [{\"colorbar\": {\"outlinewidth\": 0, \"ticks\": \"\"}, \"type\": \"choropleth\"}], \"contour\": [{\"colorbar\": {\"outlinewidth\": 0, \"ticks\": \"\"}, \"colorscale\": [[0.0, \"#0d0887\"], [0.1111111111111111, \"#46039f\"], [0.2222222222222222, \"#7201a8\"], [0.3333333333333333, \"#9c179e\"], [0.4444444444444444, \"#bd3786\"], [0.5555555555555556, \"#d8576b\"], [0.6666666666666666, \"#ed7953\"], [0.7777777777777778, \"#fb9f3a\"], [0.8888888888888888, \"#fdca26\"], [1.0, \"#f0f921\"]], \"type\": \"contour\"}], \"contourcarpet\": [{\"colorbar\": {\"outlinewidth\": 0, \"ticks\": \"\"}, \"type\": \"contourcarpet\"}], \"heatmap\": [{\"colorbar\": {\"outlinewidth\": 0, \"ticks\": \"\"}, \"colorscale\": [[0.0, \"#0d0887\"], [0.1111111111111111, \"#46039f\"], [0.2222222222222222, \"#7201a8\"], [0.3333333333333333, \"#9c179e\"], [0.4444444444444444, \"#bd3786\"], [0.5555555555555556, \"#d8576b\"], [0.6666666666666666, \"#ed7953\"], [0.7777777777777778, \"#fb9f3a\"], [0.8888888888888888, \"#fdca26\"], [1.0, \"#f0f921\"]], \"type\": \"heatmap\"}], \"heatmapgl\": [{\"colorbar\": {\"outlinewidth\": 0, \"ticks\": \"\"}, \"colorscale\": [[0.0, \"#0d0887\"], [0.1111111111111111, \"#46039f\"], [0.2222222222222222, \"#7201a8\"], [0.3333333333333333, \"#9c179e\"], [0.4444444444444444, \"#bd3786\"], [0.5555555555555556, \"#d8576b\"], [0.6666666666666666, \"#ed7953\"], [0.7777777777777778, \"#fb9f3a\"], [0.8888888888888888, \"#fdca26\"], [1.0, \"#f0f921\"]], \"type\": \"heatmapgl\"}], \"histogram\": [{\"marker\": {\"colorbar\": {\"outlinewidth\": 0, \"ticks\": \"\"}}, \"type\": \"histogram\"}], \"histogram2d\": [{\"colorbar\": {\"outlinewidth\": 0, \"ticks\": \"\"}, \"colorscale\": [[0.0, \"#0d0887\"], [0.1111111111111111, \"#46039f\"], [0.2222222222222222, \"#7201a8\"], [0.3333333333333333, \"#9c179e\"], [0.4444444444444444, \"#bd3786\"], [0.5555555555555556, \"#d8576b\"], [0.6666666666666666, \"#ed7953\"], [0.7777777777777778, \"#fb9f3a\"], [0.8888888888888888, \"#fdca26\"], [1.0, \"#f0f921\"]], \"type\": \"histogram2d\"}], \"histogram2dcontour\": [{\"colorbar\": {\"outlinewidth\": 0, \"ticks\": \"\"}, \"colorscale\": [[0.0, \"#0d0887\"], [0.1111111111111111, \"#46039f\"], [0.2222222222222222, \"#7201a8\"], [0.3333333333333333, \"#9c179e\"], [0.4444444444444444, \"#bd3786\"], [0.5555555555555556, \"#d8576b\"], [0.6666666666666666, \"#ed7953\"], [0.7777777777777778, \"#fb9f3a\"], [0.8888888888888888, \"#fdca26\"], [1.0, \"#f0f921\"]], \"type\": \"histogram2dcontour\"}], \"mesh3d\": [{\"colorbar\": {\"outlinewidth\": 0, \"ticks\": \"\"}, \"type\": \"mesh3d\"}], \"parcoords\": [{\"line\": {\"colorbar\": {\"outlinewidth\": 0, \"ticks\": \"\"}}, \"type\": \"parcoords\"}], \"pie\": [{\"automargin\": true, \"type\": \"pie\"}], \"scatter\": [{\"marker\": {\"colorbar\": {\"outlinewidth\": 0, \"ticks\": \"\"}}, \"type\": \"scatter\"}], \"scatter3d\": [{\"line\": {\"colorbar\": {\"outlinewidth\": 0, \"ticks\": \"\"}}, \"marker\": {\"colorbar\": {\"outlinewidth\": 0, \"ticks\": \"\"}}, \"type\": \"scatter3d\"}], \"scattercarpet\": [{\"marker\": {\"colorbar\": {\"outlinewidth\": 0, \"ticks\": \"\"}}, \"type\": \"scattercarpet\"}], \"scattergeo\": [{\"marker\": {\"colorbar\": {\"outlinewidth\": 0, \"ticks\": \"\"}}, \"type\": \"scattergeo\"}], \"scattergl\": [{\"marker\": {\"colorbar\": {\"outlinewidth\": 0, \"ticks\": \"\"}}, \"type\": \"scattergl\"}], \"scattermapbox\": [{\"marker\": {\"colorbar\": {\"outlinewidth\": 0, \"ticks\": \"\"}}, \"type\": \"scattermapbox\"}], \"scatterpolar\": [{\"marker\": {\"colorbar\": {\"outlinewidth\": 0, \"ticks\": \"\"}}, \"type\": \"scatterpolar\"}], \"scatterpolargl\": [{\"marker\": {\"colorbar\": {\"outlinewidth\": 0, \"ticks\": \"\"}}, \"type\": \"scatterpolargl\"}], \"scatterternary\": [{\"marker\": {\"colorbar\": {\"outlinewidth\": 0, \"ticks\": \"\"}}, \"type\": \"scatterternary\"}], \"surface\": [{\"colorbar\": {\"outlinewidth\": 0, \"ticks\": \"\"}, \"colorscale\": [[0.0, \"#0d0887\"], [0.1111111111111111, \"#46039f\"], [0.2222222222222222, \"#7201a8\"], [0.3333333333333333, \"#9c179e\"], [0.4444444444444444, \"#bd3786\"], [0.5555555555555556, \"#d8576b\"], [0.6666666666666666, \"#ed7953\"], [0.7777777777777778, \"#fb9f3a\"], [0.8888888888888888, \"#fdca26\"], [1.0, \"#f0f921\"]], \"type\": \"surface\"}], \"table\": [{\"cells\": {\"fill\": {\"color\": \"#EBF0F8\"}, \"line\": {\"color\": \"white\"}}, \"header\": {\"fill\": {\"color\": \"#C8D4E3\"}, \"line\": {\"color\": \"white\"}}, \"type\": \"table\"}]}, \"layout\": {\"annotationdefaults\": {\"arrowcolor\": \"#2a3f5f\", \"arrowhead\": 0, \"arrowwidth\": 1}, \"coloraxis\": {\"colorbar\": {\"outlinewidth\": 0, \"ticks\": \"\"}}, \"colorscale\": {\"diverging\": [[0, \"#8e0152\"], [0.1, \"#c51b7d\"], [0.2, \"#de77ae\"], [0.3, \"#f1b6da\"], [0.4, \"#fde0ef\"], [0.5, \"#f7f7f7\"], [0.6, \"#e6f5d0\"], [0.7, \"#b8e186\"], [0.8, \"#7fbc41\"], [0.9, \"#4d9221\"], [1, \"#276419\"]], \"sequential\": [[0.0, \"#0d0887\"], [0.1111111111111111, \"#46039f\"], [0.2222222222222222, \"#7201a8\"], [0.3333333333333333, \"#9c179e\"], [0.4444444444444444, \"#bd3786\"], [0.5555555555555556, \"#d8576b\"], [0.6666666666666666, \"#ed7953\"], [0.7777777777777778, \"#fb9f3a\"], [0.8888888888888888, \"#fdca26\"], [1.0, \"#f0f921\"]], \"sequentialminus\": [[0.0, \"#0d0887\"], [0.1111111111111111, \"#46039f\"], [0.2222222222222222, \"#7201a8\"], [0.3333333333333333, \"#9c179e\"], [0.4444444444444444, \"#bd3786\"], [0.5555555555555556, \"#d8576b\"], [0.6666666666666666, \"#ed7953\"], [0.7777777777777778, \"#fb9f3a\"], [0.8888888888888888, \"#fdca26\"], [1.0, \"#f0f921\"]]}, \"colorway\": [\"#636efa\", \"#EF553B\", \"#00cc96\", \"#ab63fa\", \"#FFA15A\", \"#19d3f3\", \"#FF6692\", \"#B6E880\", \"#FF97FF\", \"#FECB52\"], \"font\": {\"color\": \"#2a3f5f\"}, \"geo\": {\"bgcolor\": \"white\", \"lakecolor\": \"white\", \"landcolor\": \"#E5ECF6\", \"showlakes\": true, \"showland\": true, \"subunitcolor\": \"white\"}, \"hoverlabel\": {\"align\": \"left\"}, \"hovermode\": \"closest\", \"mapbox\": {\"style\": \"light\"}, \"paper_bgcolor\": \"white\", \"plot_bgcolor\": \"#E5ECF6\", \"polar\": {\"angularaxis\": {\"gridcolor\": \"white\", \"linecolor\": \"white\", \"ticks\": \"\"}, \"bgcolor\": \"#E5ECF6\", \"radialaxis\": {\"gridcolor\": \"white\", \"linecolor\": \"white\", \"ticks\": \"\"}}, \"scene\": {\"xaxis\": {\"backgroundcolor\": \"#E5ECF6\", \"gridcolor\": \"white\", \"gridwidth\": 2, \"linecolor\": \"white\", \"showbackground\": true, \"ticks\": \"\", \"zerolinecolor\": \"white\"}, \"yaxis\": {\"backgroundcolor\": \"#E5ECF6\", \"gridcolor\": \"white\", \"gridwidth\": 2, \"linecolor\": \"white\", \"showbackground\": true, \"ticks\": \"\", \"zerolinecolor\": \"white\"}, \"zaxis\": {\"backgroundcolor\": \"#E5ECF6\", \"gridcolor\": \"white\", \"gridwidth\": 2, \"linecolor\": \"white\", \"showbackground\": true, \"ticks\": \"\", \"zerolinecolor\": \"white\"}}, \"shapedefaults\": {\"line\": {\"color\": \"#2a3f5f\"}}, \"ternary\": {\"aaxis\": {\"gridcolor\": \"white\", \"linecolor\": \"white\", \"ticks\": \"\"}, \"baxis\": {\"gridcolor\": \"white\", \"linecolor\": \"white\", \"ticks\": \"\"}, \"bgcolor\": \"#E5ECF6\", \"caxis\": {\"gridcolor\": \"white\", \"linecolor\": \"white\", \"ticks\": \"\"}}, \"title\": {\"x\": 0.05}, \"xaxis\": {\"automargin\": true, \"gridcolor\": \"white\", \"linecolor\": \"white\", \"ticks\": \"\", \"title\": {\"standoff\": 15}, \"zerolinecolor\": \"white\", \"zerolinewidth\": 2}, \"yaxis\": {\"automargin\": true, \"gridcolor\": \"white\", \"linecolor\": \"white\", \"ticks\": \"\", \"title\": {\"standoff\": 15}, \"zerolinecolor\": \"white\", \"zerolinewidth\": 2}}}, \"title\": {\"text\": \"Grouped by type\"}, \"xaxis\": {\"title\": {\"text\": \"Size of array\"}}, \"yaxis\": {\"title\": {\"text\": \"Time (s)\"}}},\n",
              "                        {\"responsive\": true}\n",
              "                    ).then(function(){\n",
              "                            \n",
              "var gd = document.getElementById('981d507a-fa8a-42ed-9225-8e9af4512ef5');\n",
              "var x = new MutationObserver(function (mutations, observer) {{\n",
              "        var display = window.getComputedStyle(gd).display;\n",
              "        if (!display || display === 'none') {{\n",
              "            console.log([gd, 'removed!']);\n",
              "            Plotly.purge(gd);\n",
              "            observer.disconnect();\n",
              "        }}\n",
              "}});\n",
              "\n",
              "// Listen for the removal of the full notebook cells\n",
              "var notebookContainer = gd.closest('#notebook-container');\n",
              "if (notebookContainer) {{\n",
              "    x.observe(notebookContainer, {childList: true});\n",
              "}}\n",
              "\n",
              "// Listen for the clearing of the current output cell\n",
              "var outputEl = gd.closest('.output');\n",
              "if (outputEl) {{\n",
              "    x.observe(outputEl, {childList: true});\n",
              "}}\n",
              "\n",
              "                        })\n",
              "                };\n",
              "                \n",
              "            </script>\n",
              "        </div>\n",
              "</body>\n",
              "</html>"
            ]
          },
          "metadata": {
            "tags": []
          }
        },
        {
          "output_type": "display_data",
          "data": {
            "text/html": [
              "<html>\n",
              "<head><meta charset=\"utf-8\" /></head>\n",
              "<body>\n",
              "    <div>\n",
              "            <script src=\"https://cdnjs.cloudflare.com/ajax/libs/mathjax/2.7.5/MathJax.js?config=TeX-AMS-MML_SVG\"></script><script type=\"text/javascript\">if (window.MathJax) {MathJax.Hub.Config({SVG: {font: \"STIX-Web\"}});}</script>\n",
              "                <script type=\"text/javascript\">window.PlotlyConfig = {MathJaxConfig: 'local'};</script>\n",
              "        <script src=\"https://cdn.plot.ly/plotly-latest.min.js\"></script>    \n",
              "            <div id=\"5b5ca5ae-9799-45a5-bd1b-8f13f7b16ea4\" class=\"plotly-graph-div\" style=\"height:525px; width:100%;\"></div>\n",
              "            <script type=\"text/javascript\">\n",
              "                \n",
              "                    window.PLOTLYENV=window.PLOTLYENV || {};\n",
              "                    \n",
              "                if (document.getElementById(\"5b5ca5ae-9799-45a5-bd1b-8f13f7b16ea4\")) {\n",
              "                    Plotly.newPlot(\n",
              "                        '5b5ca5ae-9799-45a5-bd1b-8f13f7b16ea4',\n",
              "                        [{\"legendgroup\": \"quick\", \"mode\": \"lines+markers\", \"name\": \"quick_sorted\", \"type\": \"scatter\", \"x\": [1000, 2000, 3000, 4000, 5000, 6000, 7000, 8000, 9000, 10000], \"y\": [0.1971437931060791, 0.5221936702728271, 1.012413501739502, 1.86383056640625, 2.887575626373291, 4.215571165084839, 5.736204385757446, 7.567899465560913, 9.581453561782837, 11.836766242980957]}, {\"legendgroup\": \"quick\", \"mode\": \"lines+markers\", \"name\": \"quick_reversed\", \"type\": \"scatter\", \"x\": [1000, 2000, 3000, 4000, 5000, 6000, 7000, 8000, 9000, 10000], \"y\": [0.07931256294250488, 0.2969040870666504, 0.6615555286407471, 1.180774211883545, 1.847641944885254, 2.6451213359832764, 3.6109070777893066, 4.710620641708374, 5.964602470397949, 7.377075433731079]}, {\"legendgroup\": \"quick\", \"mode\": \"lines+markers\", \"name\": \"quick_random\", \"type\": \"scatter\", \"x\": [1000, 2000, 3000, 4000, 5000, 6000, 7000, 8000, 9000, 10000], \"y\": [0.002585887908935547, 0.011008501052856445, 0.007339954376220703, 0.012870311737060547, 0.013134956359863281, 0.016455411911010742, 0.019269466400146484, 0.022780656814575195, 0.025799036026000977, 0.027785778045654297]}, {\"legendgroup\": \"heap\", \"mode\": \"lines+markers\", \"name\": \"heap_sorted\", \"type\": \"scatter\", \"x\": [1000, 2000, 3000, 4000, 5000, 6000, 7000, 8000, 9000, 10000], \"y\": [0.0060732364654541016, 0.013755559921264648, 0.02269434928894043, 0.03262138366699219, 0.0438075065612793, 0.05204343795776367, 0.06328082084655762, 0.07749223709106445, 0.0974416732788086, 0.10084080696105957]}, {\"legendgroup\": \"heap\", \"mode\": \"lines+markers\", \"name\": \"heap_reversed\", \"type\": \"scatter\", \"x\": [1000, 2000, 3000, 4000, 5000, 6000, 7000, 8000, 9000, 10000], \"y\": [0.005953788757324219, 0.012477636337280273, 0.02071213722229004, 0.028911590576171875, 0.037244319915771484, 0.04815793037414551, 0.05865073204040527, 0.07262754440307617, 0.08643078804016113, 0.09228777885437012]}, {\"legendgroup\": \"heap\", \"mode\": \"lines+markers\", \"name\": \"heap_random\", \"type\": \"scatter\", \"x\": [1000, 2000, 3000, 4000, 5000, 6000, 7000, 8000, 9000, 10000], \"y\": [0.00652766227722168, 0.01282358169555664, 0.022985458374023438, 0.029894590377807617, 0.03970766067504883, 0.049653053283691406, 0.062151193618774414, 0.0767514705657959, 0.08324432373046875, 0.09769868850708008]}, {\"legendgroup\": \"ins\", \"mode\": \"lines+markers\", \"name\": \"ins_sorted\", \"type\": \"scatter\", \"x\": [1000, 2000, 3000, 4000, 5000, 6000, 7000, 8000, 9000, 10000], \"y\": [0.00020194053649902344, 0.00035953521728515625, 0.0005075931549072266, 0.0007007122039794922, 0.0008678436279296875, 0.0010685920715332031, 0.0012385845184326172, 0.001440286636352539, 0.0015835762023925781, 0.0017726421356201172]}, {\"legendgroup\": \"ins\", \"mode\": \"lines+markers\", \"name\": \"ins_reversed\", \"type\": \"scatter\", \"x\": [1000, 2000, 3000, 4000, 5000, 6000, 7000, 8000, 9000, 10000], \"y\": [0.07134008407592773, 0.2842576503753662, 0.641782283782959, 1.1420865058898926, 1.823197841644287, 2.600470781326294, 3.5391666889190674, 4.647400856018066, 5.863456726074219, 7.2867631912231445]}, {\"legendgroup\": \"ins\", \"mode\": \"lines+markers\", \"name\": \"ins_random\", \"type\": \"scatter\", \"x\": [1000, 2000, 3000, 4000, 5000, 6000, 7000, 8000, 9000, 10000], \"y\": [0.036370277404785156, 0.14374423027038574, 0.3312876224517822, 0.5887565612792969, 0.9114887714385986, 1.3146307468414307, 1.8063921928405762, 2.329125165939331, 2.9592199325561523, 3.6874730587005615]}, {\"legendgroup\": \"sel\", \"mode\": \"lines+markers\", \"name\": \"sel_sorted\", \"type\": \"scatter\", \"x\": [1000, 2000, 3000, 4000, 5000, 6000, 7000, 8000, 9000, 10000], \"y\": [0.03316164016723633, 0.13289952278137207, 0.298037052154541, 0.5249724388122559, 0.8181540966033936, 1.20359206199646, 1.6482715606689453, 2.1590700149536133, 2.7097864151000977, 3.3319733142852783]}, {\"legendgroup\": \"sel\", \"mode\": \"lines+markers\", \"name\": \"sel_reversed\", \"type\": \"scatter\", \"x\": [1000, 2000, 3000, 4000, 5000, 6000, 7000, 8000, 9000, 10000], \"y\": [0.03478860855102539, 0.14020943641662598, 0.326305627822876, 0.5556640625, 0.8900103569030762, 1.2628629207611084, 1.717761516571045, 2.2367501258850098, 2.8673994541168213, 3.506105422973633]}, {\"legendgroup\": \"sel\", \"mode\": \"lines+markers\", \"name\": \"sel_random\", \"type\": \"scatter\", \"x\": [1000, 2000, 3000, 4000, 5000, 6000, 7000, 8000, 9000, 10000], \"y\": [0.03458046913146973, 0.13518071174621582, 0.308743953704834, 0.545208215713501, 0.8509955406188965, 1.2192821502685547, 1.6366832256317139, 2.140428066253662, 2.720508337020874, 3.3480074405670166]}, {\"legendgroup\": \"bubb\", \"mode\": \"lines+markers\", \"name\": \"bubb_sorted\", \"type\": \"scatter\", \"x\": [1000, 2000, 3000, 4000, 5000, 6000, 7000, 8000, 9000, 10000], \"y\": [0.04071760177612305, 0.17502474784851074, 0.39252305030822754, 0.6978671550750732, 1.0918595790863037, 1.5804526805877686, 2.1579749584198, 2.8129148483276367, 3.5899806022644043, 4.422718286514282]}, {\"legendgroup\": \"bubb\", \"mode\": \"lines+markers\", \"name\": \"bubb_reversed\", \"type\": \"scatter\", \"x\": [1000, 2000, 3000, 4000, 5000, 6000, 7000, 8000, 9000, 10000], \"y\": [0.1263113021850586, 0.531857967376709, 1.2011606693267822, 2.125664710998535, 3.33174991607666, 4.824244737625122, 6.583380460739136, 8.626905679702759, 10.953033685684204, 13.43857216835022]}, {\"legendgroup\": \"bubb\", \"mode\": \"lines+markers\", \"name\": \"bubb_random\", \"type\": \"scatter\", \"x\": [1000, 2000, 3000, 4000, 5000, 6000, 7000, 8000, 9000, 10000], \"y\": [0.08762359619140625, 0.36803507804870605, 0.8231046199798584, 1.4814965724945068, 2.2758145332336426, 3.290102481842041, 4.473753929138184, 5.858308553695679, 7.441923379898071, 9.266722202301025]}],\n",
              "                        {\"template\": {\"data\": {\"bar\": [{\"error_x\": {\"color\": \"#2a3f5f\"}, \"error_y\": {\"color\": \"#2a3f5f\"}, \"marker\": {\"line\": {\"color\": \"#E5ECF6\", \"width\": 0.5}}, \"type\": \"bar\"}], \"barpolar\": [{\"marker\": {\"line\": {\"color\": \"#E5ECF6\", \"width\": 0.5}}, \"type\": \"barpolar\"}], \"carpet\": [{\"aaxis\": {\"endlinecolor\": \"#2a3f5f\", \"gridcolor\": \"white\", \"linecolor\": \"white\", \"minorgridcolor\": \"white\", \"startlinecolor\": \"#2a3f5f\"}, \"baxis\": {\"endlinecolor\": \"#2a3f5f\", \"gridcolor\": \"white\", \"linecolor\": \"white\", \"minorgridcolor\": \"white\", \"startlinecolor\": \"#2a3f5f\"}, \"type\": \"carpet\"}], \"choropleth\": [{\"colorbar\": {\"outlinewidth\": 0, \"ticks\": \"\"}, \"type\": \"choropleth\"}], \"contour\": [{\"colorbar\": {\"outlinewidth\": 0, \"ticks\": \"\"}, \"colorscale\": [[0.0, \"#0d0887\"], [0.1111111111111111, \"#46039f\"], [0.2222222222222222, \"#7201a8\"], [0.3333333333333333, \"#9c179e\"], [0.4444444444444444, \"#bd3786\"], [0.5555555555555556, \"#d8576b\"], [0.6666666666666666, \"#ed7953\"], [0.7777777777777778, \"#fb9f3a\"], [0.8888888888888888, \"#fdca26\"], [1.0, \"#f0f921\"]], \"type\": \"contour\"}], \"contourcarpet\": [{\"colorbar\": {\"outlinewidth\": 0, \"ticks\": \"\"}, \"type\": \"contourcarpet\"}], \"heatmap\": [{\"colorbar\": {\"outlinewidth\": 0, \"ticks\": \"\"}, \"colorscale\": [[0.0, \"#0d0887\"], [0.1111111111111111, \"#46039f\"], [0.2222222222222222, \"#7201a8\"], [0.3333333333333333, \"#9c179e\"], [0.4444444444444444, \"#bd3786\"], [0.5555555555555556, \"#d8576b\"], [0.6666666666666666, \"#ed7953\"], [0.7777777777777778, \"#fb9f3a\"], [0.8888888888888888, \"#fdca26\"], [1.0, \"#f0f921\"]], \"type\": \"heatmap\"}], \"heatmapgl\": [{\"colorbar\": {\"outlinewidth\": 0, \"ticks\": \"\"}, \"colorscale\": [[0.0, \"#0d0887\"], [0.1111111111111111, \"#46039f\"], [0.2222222222222222, \"#7201a8\"], [0.3333333333333333, \"#9c179e\"], [0.4444444444444444, \"#bd3786\"], [0.5555555555555556, \"#d8576b\"], [0.6666666666666666, \"#ed7953\"], [0.7777777777777778, \"#fb9f3a\"], [0.8888888888888888, \"#fdca26\"], [1.0, \"#f0f921\"]], \"type\": \"heatmapgl\"}], \"histogram\": [{\"marker\": {\"colorbar\": {\"outlinewidth\": 0, \"ticks\": \"\"}}, \"type\": \"histogram\"}], \"histogram2d\": [{\"colorbar\": {\"outlinewidth\": 0, \"ticks\": \"\"}, \"colorscale\": [[0.0, \"#0d0887\"], [0.1111111111111111, \"#46039f\"], [0.2222222222222222, \"#7201a8\"], [0.3333333333333333, \"#9c179e\"], [0.4444444444444444, \"#bd3786\"], [0.5555555555555556, \"#d8576b\"], [0.6666666666666666, \"#ed7953\"], [0.7777777777777778, \"#fb9f3a\"], [0.8888888888888888, \"#fdca26\"], [1.0, \"#f0f921\"]], \"type\": \"histogram2d\"}], \"histogram2dcontour\": [{\"colorbar\": {\"outlinewidth\": 0, \"ticks\": \"\"}, \"colorscale\": [[0.0, \"#0d0887\"], [0.1111111111111111, \"#46039f\"], [0.2222222222222222, \"#7201a8\"], [0.3333333333333333, \"#9c179e\"], [0.4444444444444444, \"#bd3786\"], [0.5555555555555556, \"#d8576b\"], [0.6666666666666666, \"#ed7953\"], [0.7777777777777778, \"#fb9f3a\"], [0.8888888888888888, \"#fdca26\"], [1.0, \"#f0f921\"]], \"type\": \"histogram2dcontour\"}], \"mesh3d\": [{\"colorbar\": {\"outlinewidth\": 0, \"ticks\": \"\"}, \"type\": \"mesh3d\"}], \"parcoords\": [{\"line\": {\"colorbar\": {\"outlinewidth\": 0, \"ticks\": \"\"}}, \"type\": \"parcoords\"}], \"pie\": [{\"automargin\": true, \"type\": \"pie\"}], \"scatter\": [{\"marker\": {\"colorbar\": {\"outlinewidth\": 0, \"ticks\": \"\"}}, \"type\": \"scatter\"}], \"scatter3d\": [{\"line\": {\"colorbar\": {\"outlinewidth\": 0, \"ticks\": \"\"}}, \"marker\": {\"colorbar\": {\"outlinewidth\": 0, \"ticks\": \"\"}}, \"type\": \"scatter3d\"}], \"scattercarpet\": [{\"marker\": {\"colorbar\": {\"outlinewidth\": 0, \"ticks\": \"\"}}, \"type\": \"scattercarpet\"}], \"scattergeo\": [{\"marker\": {\"colorbar\": {\"outlinewidth\": 0, \"ticks\": \"\"}}, \"type\": \"scattergeo\"}], \"scattergl\": [{\"marker\": {\"colorbar\": {\"outlinewidth\": 0, \"ticks\": \"\"}}, \"type\": \"scattergl\"}], \"scattermapbox\": [{\"marker\": {\"colorbar\": {\"outlinewidth\": 0, \"ticks\": \"\"}}, \"type\": \"scattermapbox\"}], \"scatterpolar\": [{\"marker\": {\"colorbar\": {\"outlinewidth\": 0, \"ticks\": \"\"}}, \"type\": \"scatterpolar\"}], \"scatterpolargl\": [{\"marker\": {\"colorbar\": {\"outlinewidth\": 0, \"ticks\": \"\"}}, \"type\": \"scatterpolargl\"}], \"scatterternary\": [{\"marker\": {\"colorbar\": {\"outlinewidth\": 0, \"ticks\": \"\"}}, \"type\": \"scatterternary\"}], \"surface\": [{\"colorbar\": {\"outlinewidth\": 0, \"ticks\": \"\"}, \"colorscale\": [[0.0, \"#0d0887\"], [0.1111111111111111, \"#46039f\"], [0.2222222222222222, \"#7201a8\"], [0.3333333333333333, \"#9c179e\"], [0.4444444444444444, \"#bd3786\"], [0.5555555555555556, \"#d8576b\"], [0.6666666666666666, \"#ed7953\"], [0.7777777777777778, \"#fb9f3a\"], [0.8888888888888888, \"#fdca26\"], [1.0, \"#f0f921\"]], \"type\": \"surface\"}], \"table\": [{\"cells\": {\"fill\": {\"color\": \"#EBF0F8\"}, \"line\": {\"color\": \"white\"}}, \"header\": {\"fill\": {\"color\": \"#C8D4E3\"}, \"line\": {\"color\": \"white\"}}, \"type\": \"table\"}]}, \"layout\": {\"annotationdefaults\": {\"arrowcolor\": \"#2a3f5f\", \"arrowhead\": 0, \"arrowwidth\": 1}, \"coloraxis\": {\"colorbar\": {\"outlinewidth\": 0, \"ticks\": \"\"}}, \"colorscale\": {\"diverging\": [[0, \"#8e0152\"], [0.1, \"#c51b7d\"], [0.2, \"#de77ae\"], [0.3, \"#f1b6da\"], [0.4, \"#fde0ef\"], [0.5, \"#f7f7f7\"], [0.6, \"#e6f5d0\"], [0.7, \"#b8e186\"], [0.8, \"#7fbc41\"], [0.9, \"#4d9221\"], [1, \"#276419\"]], \"sequential\": [[0.0, \"#0d0887\"], [0.1111111111111111, \"#46039f\"], [0.2222222222222222, \"#7201a8\"], [0.3333333333333333, \"#9c179e\"], [0.4444444444444444, \"#bd3786\"], [0.5555555555555556, \"#d8576b\"], [0.6666666666666666, \"#ed7953\"], [0.7777777777777778, \"#fb9f3a\"], [0.8888888888888888, \"#fdca26\"], [1.0, \"#f0f921\"]], \"sequentialminus\": [[0.0, \"#0d0887\"], [0.1111111111111111, \"#46039f\"], [0.2222222222222222, \"#7201a8\"], [0.3333333333333333, \"#9c179e\"], [0.4444444444444444, \"#bd3786\"], [0.5555555555555556, \"#d8576b\"], [0.6666666666666666, \"#ed7953\"], [0.7777777777777778, \"#fb9f3a\"], [0.8888888888888888, \"#fdca26\"], [1.0, \"#f0f921\"]]}, \"colorway\": [\"#636efa\", \"#EF553B\", \"#00cc96\", \"#ab63fa\", \"#FFA15A\", \"#19d3f3\", \"#FF6692\", \"#B6E880\", \"#FF97FF\", \"#FECB52\"], \"font\": {\"color\": \"#2a3f5f\"}, \"geo\": {\"bgcolor\": \"white\", \"lakecolor\": \"white\", \"landcolor\": \"#E5ECF6\", \"showlakes\": true, \"showland\": true, \"subunitcolor\": \"white\"}, \"hoverlabel\": {\"align\": \"left\"}, \"hovermode\": \"closest\", \"mapbox\": {\"style\": \"light\"}, \"paper_bgcolor\": \"white\", \"plot_bgcolor\": \"#E5ECF6\", \"polar\": {\"angularaxis\": {\"gridcolor\": \"white\", \"linecolor\": \"white\", \"ticks\": \"\"}, \"bgcolor\": \"#E5ECF6\", \"radialaxis\": {\"gridcolor\": \"white\", \"linecolor\": \"white\", \"ticks\": \"\"}}, \"scene\": {\"xaxis\": {\"backgroundcolor\": \"#E5ECF6\", \"gridcolor\": \"white\", \"gridwidth\": 2, \"linecolor\": \"white\", \"showbackground\": true, \"ticks\": \"\", \"zerolinecolor\": \"white\"}, \"yaxis\": {\"backgroundcolor\": \"#E5ECF6\", \"gridcolor\": \"white\", \"gridwidth\": 2, \"linecolor\": \"white\", \"showbackground\": true, \"ticks\": \"\", \"zerolinecolor\": \"white\"}, \"zaxis\": {\"backgroundcolor\": \"#E5ECF6\", \"gridcolor\": \"white\", \"gridwidth\": 2, \"linecolor\": \"white\", \"showbackground\": true, \"ticks\": \"\", \"zerolinecolor\": \"white\"}}, \"shapedefaults\": {\"line\": {\"color\": \"#2a3f5f\"}}, \"ternary\": {\"aaxis\": {\"gridcolor\": \"white\", \"linecolor\": \"white\", \"ticks\": \"\"}, \"baxis\": {\"gridcolor\": \"white\", \"linecolor\": \"white\", \"ticks\": \"\"}, \"bgcolor\": \"#E5ECF6\", \"caxis\": {\"gridcolor\": \"white\", \"linecolor\": \"white\", \"ticks\": \"\"}}, \"title\": {\"x\": 0.05}, \"xaxis\": {\"automargin\": true, \"gridcolor\": \"white\", \"linecolor\": \"white\", \"ticks\": \"\", \"title\": {\"standoff\": 15}, \"zerolinecolor\": \"white\", \"zerolinewidth\": 2}, \"yaxis\": {\"automargin\": true, \"gridcolor\": \"white\", \"linecolor\": \"white\", \"ticks\": \"\", \"title\": {\"standoff\": 15}, \"zerolinecolor\": \"white\", \"zerolinewidth\": 2}}}, \"title\": {\"text\": \"Grouped by algorithm\"}, \"xaxis\": {\"title\": {\"text\": \"Size of array\"}}, \"yaxis\": {\"title\": {\"text\": \"Time (s)\"}}},\n",
              "                        {\"responsive\": true}\n",
              "                    ).then(function(){\n",
              "                            \n",
              "var gd = document.getElementById('5b5ca5ae-9799-45a5-bd1b-8f13f7b16ea4');\n",
              "var x = new MutationObserver(function (mutations, observer) {{\n",
              "        var display = window.getComputedStyle(gd).display;\n",
              "        if (!display || display === 'none') {{\n",
              "            console.log([gd, 'removed!']);\n",
              "            Plotly.purge(gd);\n",
              "            observer.disconnect();\n",
              "        }}\n",
              "}});\n",
              "\n",
              "// Listen for the removal of the full notebook cells\n",
              "var notebookContainer = gd.closest('#notebook-container');\n",
              "if (notebookContainer) {{\n",
              "    x.observe(notebookContainer, {childList: true});\n",
              "}}\n",
              "\n",
              "// Listen for the clearing of the current output cell\n",
              "var outputEl = gd.closest('.output');\n",
              "if (outputEl) {{\n",
              "    x.observe(outputEl, {childList: true});\n",
              "}}\n",
              "\n",
              "                        })\n",
              "                };\n",
              "                \n",
              "            </script>\n",
              "        </div>\n",
              "</body>\n",
              "</html>"
            ]
          },
          "metadata": {
            "tags": []
          }
        }
      ]
    }
  ]
}